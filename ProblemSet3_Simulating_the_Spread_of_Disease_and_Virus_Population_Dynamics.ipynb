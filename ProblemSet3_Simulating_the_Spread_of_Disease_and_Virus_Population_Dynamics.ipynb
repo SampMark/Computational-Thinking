{
  "nbformat": 4,
  "nbformat_minor": 0,
  "metadata": {
    "colab": {
      "provenance": [],
      "authorship_tag": "ABX9TyO3EHjl5HI0ufLdpSM8cgHn",
      "include_colab_link": true
    },
    "kernelspec": {
      "name": "python3",
      "display_name": "Python 3"
    },
    "language_info": {
      "name": "python"
    }
  },
  "cells": [
    {
      "cell_type": "markdown",
      "metadata": {
        "id": "view-in-github",
        "colab_type": "text"
      },
      "source": [
        "<a href=\"https://colab.research.google.com/github/SampMark/Computational-Thinking/blob/main/ProblemSet3_Simulating_the_Spread_of_Disease_and_Virus_Population_Dynamics.ipynb\" target=\"_parent\"><img src=\"https://colab.research.google.com/assets/colab-badge.svg\" alt=\"Open In Colab\"/></a>"
      ]
    },
    {
      "cell_type": "markdown",
      "source": [
        "# **Problem Set3: Modelagem computacional para simulação de uma virose**\n",
        "\n",
        "O problema proposto é parte do curso MITx 6.00.2x - *Introduction to Computational Thinking and Data Science*, o \"**Problem Set3**\" diz respeito a simulação da propagação de um vírus num paciente, considerando-se a possibilidade de tratamento com determinados medicamentos e o desenvolvimento de resistência a tais e tais medicamentos por parte do vírus.\n",
        "\n",
        "O objetivo é modelar estocasticamente a dinâmica da população de vírus ao longo do tempo, levando em conta a reprodução do vírus, a eliminação natural pelo sistema imunológico e os efeitos do tratamento.\n",
        "\n",
        "A simulação implementada em Python, utiliza classes para representar o vírus (`SimpleVirus` e `ResistantVirus`) e o paciente (`Patient` e `TreatedPatient`). As classes `ResistantVirus` e `TreatedPatient`, respectivamente, são extensões  das classes `SimpleVirus` e `Patient`, incorporando a lógica de resistência a medicamentos e tratamento.\n",
        "\n",
        "O problema exige a implementação de métodos para simular a reprodução do vírus, a eliminação do vírus, a administração de medicamentos e a atualização do estado do paciente a cada intervalo de tempo. Adicionalmente, é apresentada uma mesma solução com o uso da biblioteca NumPy para otimizar as operações numéricas, especialmente em simulações com grande número de vírus ou medicamentos.\n",
        "\n",
        "A resolução do problema permitirá compreender a dinâmica de uma infecção viral, analisando-se o impacto do tratamento na população de vírus, considerando diferentes cenários de resistência a medicamentos."
      ],
      "metadata": {
        "id": "RHzb3n1Dh6Il"
      }
    },
    {
      "cell_type": "markdown",
      "source": [
        "# **Problema 1: Implementação da Simulação de uma Virose sem medicamentos**\n",
        "\n",
        "O problema proposto visa simular a propagação de um vírus em um paciente sem a utilização de medicamentos. O objetivo é entender a dinâmica do vírus, como ele se reproduz e como é eliminado do organismo, em um ambiente sem intervenção médica. Para tal, são propostas a implementação de duas classes principais:\n",
        "\n",
        "1) `class SimpleVirus`: Representa um vírus simples, com características como probabilidade de reprodução (`maxBirthProb`) e probabilidade de ser eliminado do corpo (`clearProb`). Essa classe possui métodos para verificar se o vírus é eliminado (`doesClear`) e para simular a reprodução (`reproduce`), considerando a densidade populacional do vírus no paciente.\n",
        "\n",
        "2) `class Patient`: Representa o paciente infectado pelo vírus, a classe armazena uma lista de vírus (`viruses`) e a população máxima de vírus que o paciente pode suportar (`maxPop`). O método `update` simula um passo de tempo na simulação, atualizando o estado dos vírus no paciente (eliminação e reprodução).\n",
        "\n",
        "A ideia é que, ao final, seja possível simular e plotar a progressão da infecção no paciente ao longo do tempo, sem a utilização de medicamentos, observando como a população de vírus varia a cada passo da simulação.\n",
        "\n",
        "Essa simulação, apesar de simplificada, serve como base para a construção de modelos mais complexos, que levem em consideração o tratamento com medicamentos e a resistência do vírus a esses medicamentos."
      ],
      "metadata": {
        "id": "7nNz50t2MvPf"
      }
    },
    {
      "cell_type": "code",
      "execution_count": 86,
      "metadata": {
        "id": "VSmukmvaIqlQ"
      },
      "outputs": [],
      "source": [
        "# Problem Set 3: Simulating the Spread of Disease and Virus Population Dynamics\n",
        "import random\n",
        "import pylab\n",
        "import numpy as np\n",
        "import logging\n",
        "logging.basicConfig(level=logging.INFO)"
      ]
    },
    {
      "cell_type": "markdown",
      "source": [
        "## **Classe `NoChildException`**\n",
        "\n",
        "A classe de exceção `NoChildException` também é usada para sinalizar que o vírus não gerou descendentes no intervalo de tempo considerado, sendo útil para controlar o fluxo da simulação no nível da classe `Patient`."
      ],
      "metadata": {
        "id": "lTIw1mEnMcWk"
      }
    },
    {
      "cell_type": "code",
      "source": [
        "class NoChildException(Exception):\n",
        "    \"\"\"\n",
        "    Define uma exceção personalizada para indicar que uma partícula viral não conseguiu se reproduzir.\n",
        "    É utilizada no método reproduce da classe SimpleVirus.\n",
        "    \"\"\"\n",
        "pass"
      ],
      "metadata": {
        "id": "mxy0xLeMIwBg"
      },
      "execution_count": 87,
      "outputs": []
    },
    {
      "cell_type": "markdown",
      "source": [
        "# **1) Classe `SimpleVirus`**\n",
        "\n",
        "A classe `SimpleVirus` representa um vírus individual e modela duas propriedades principais:\n",
        "* **Reprodução**: A probabilidade máxima do vírus se reproduzir, representada por `maxBirthProb`.\n",
        "* **Eliminação**: A probabilidade máxima do vírus ser eliminado do corpo, representada por `clearProb`.\n",
        "\n",
        "O método `__init__` é um construtor da classe que inicializa os valores de `maxBirthProb` e `clearProb` para a instância do vírus. Esses valores devem ser passados ao criar uma nova instância do vírus.\n",
        "\n",
        "O método `doesClear` utiliza a função `random.random()` (para gerar um número aleatório entre 0 e 1) de modo a determinar se o vírus será eliminado do corpo. Se o número aleatório for menor ou igual à probabilidade de eliminação (`clearProb`), o vírus é eliminado (`True`), caso contrário, sobreviverá (`False`).\n",
        "\n",
        "### **Função `reproduce`**\n",
        "\n",
        "A função `reproduce` modela a reprodução de uma partícula viral baseada na probabilidade estocástica.\n",
        "A probabilidade de reprodução é reduzida à medida que a densidade populacional (`popDensity`) aumenta,  refletindo a limitação de recursos no ambiente (como células hospedeiras) para suportar uma alta taxa de reprodução.\n",
        "\n",
        "**Parâmetros:**\n",
        "\n",
        "* `popDensity`: Representa a densidade da população viral no corpo do paciente, calculada como a proporção entre a população atual de vírus e a capacidade máxima de suporte. Uma densidade populacional mais alta implica em menos recursos disponíveis para reprodução, reduzindo a probabilidade de sucesso.\n",
        "\n",
        "**Lógica de Decisão:**\n",
        "\n",
        "A função utiliza `random.random()` para gerar um número aleatório entre 0 e 1, se esse número for menor ou igual à probabilidade de reprodução calculada, o vírus se reproduz, criando uma nova instância de `SimpleVirus` com os mesmos atributos do vírus original. Do contrário, uma exceção `NoChildException` é lançada, indicando que o vírus não se reproduziu naquele intervalo de tempo.\n",
        "\n",
        "**Reprodução Condicional:**\n",
        "\n",
        "A probabilidade de reprodução é dada pela fórmula:\n",
        "Probabilidade de reprodução `= maxBirthProb × (1 − popDensity)`\n",
        "\n",
        "Onde:\n",
        "* `maxBirthProb` é a taxa máxima de reprodução em condições ideais (densidade populacional próxima de zero).\n",
        "* `popDensity` é a densidade da população viral atual.\n"
      ],
      "metadata": {
        "id": "b-K9ZQdYJsa1"
      }
    },
    {
      "cell_type": "code",
      "source": [
        "class SimpleVirus(object):\n",
        "    def __init__(self, maxBirthProb, clearProb):\n",
        "        \"\"\"\n",
        "        Inicializa uma instância de SimpleVirus.\n",
        "\n",
        "        Parâmetros:\n",
        "        - maxBirthProb: Probabilidade máxima de reprodução do vírus (float entre 0 e 1).\n",
        "        - clearProb: Probabilidade de o vírus ser eliminado (float entre 0 e 1).\n",
        "        \"\"\"\n",
        "        self.maxBirthProb = maxBirthProb\n",
        "        self.clearProb = clearProb\n",
        "\n",
        "    def getMaxBirthProb(self):\n",
        "        \"\"\"\n",
        "        Retorna a probabilidade máxima de reprodução do vírus.\n",
        "        \"\"\"\n",
        "        return self.maxBirthProb\n",
        "\n",
        "    def getClearProb(self):\n",
        "        \"\"\"\n",
        "        Retorna a probabilidade de o vírus ser eliminado.\n",
        "        \"\"\"\n",
        "        return self.clearProb\n",
        "\n",
        "    def doesClear(self):\n",
        "        \"\"\"\n",
        "        Determina estocasticamente se o vírus será eliminado.\n",
        "\n",
        "        Retorna:\n",
        "        - True: Se o vírus for eliminado, com base em `self.clearProb`.\n",
        "        - False: Caso contrário.\n",
        "        \"\"\"\n",
        "        return random.random() <= self.clearProb\n",
        "\n",
        "    def reproduce(self, popDensity):\n",
        "        \"\"\"\n",
        "        Determina estocasticamente se o vírus se reproduz.\n",
        "\n",
        "        Parâmetros:\n",
        "        - popDensity: Densidade populacional do vírus (razão entre a população atual e a máxima permitida).\n",
        "\n",
        "        Retorna:\n",
        "        - Uma nova instância de `SimpleVirus` se a reprodução for bem-sucedida.\n",
        "\n",
        "        Lança:\n",
        "        - NoChildException: Se a reprodução não ocorrer.\n",
        "        \"\"\"\n",
        "        if random.random() <= self.maxBirthProb * (1 - popDensity):\n",
        "            logging.info(\"Vírus reproduziu.\")\n",
        "            return SimpleVirus(self.maxBirthProb, self.clearProb)\n",
        "        else:\n",
        "            logging.info(\"Vírus não reproduziu.\")\n",
        "            raise NoChildException(\"In reproduce()\")"
      ],
      "metadata": {
        "id": "JIjwtLOfmdXx"
      },
      "execution_count": 88,
      "outputs": []
    },
    {
      "cell_type": "markdown",
      "source": [
        "# **2) Classe `Patient`**\n",
        "\n",
        "Modela o comportamento de um paciente infectado, gerenciando uma lista de partículas virais (`viruses`) e uma população máxima permitida (`maxPop`).\n",
        "\n",
        "O método `update` simula o comportamento viral em cada intervalo de tempo:\n",
        "* Determina quais partículas sobrevivem.\n",
        "* Calcula a densidade populacional.\n",
        "* Simula a reprodução das partículas sobreviventes.\n",
        "\n",
        "O modelo reflete a dinâmica de populações virais de forma estocástica, considerando a competição por recursos (representada pela densidade populacional)."
      ],
      "metadata": {
        "id": "WwQAnb71msMG"
      }
    },
    {
      "cell_type": "code",
      "source": [
        "class Patient(object):\n",
        "    def __init__(self, viruses, maxPop):\n",
        "        \"\"\"\n",
        "        Inicializa uma instância de Patient.\n",
        "\n",
        "        Parâmetros:\n",
        "        - viruses: Lista inicial de partículas virais (instâncias de `SimpleVirus`).\n",
        "        - maxPop: População máxima permitida de vírus no paciente.\n",
        "        \"\"\"\n",
        "        self.viruses = viruses\n",
        "        self.maxPop = maxPop\n",
        "\n",
        "    def getViruses(self):\n",
        "        \"\"\"\n",
        "        Retorna a lista atual de partículas virais.\n",
        "        \"\"\"\n",
        "        return self.viruses\n",
        "\n",
        "    def getMaxPop(self):\n",
        "        \"\"\"\n",
        "        Retorna a população máxima permitida de vírus no paciente.\n",
        "        \"\"\"\n",
        "        return self.maxPop\n",
        "\n",
        "    def getTotalPop(self):\n",
        "        \"\"\"\n",
        "        Retorna o número total de partículas virais no paciente.\n",
        "        \"\"\"\n",
        "        return len(self.viruses)\n",
        "\n",
        "    def update(self):\n",
        "        \"\"\"\n",
        "        Atualiza o estado da população viral em um intervalo de tempo.\n",
        "\n",
        "        Passos:\n",
        "        1. Determina quais partículas virais sobrevivem (não são eliminadas).\n",
        "        2. Calcula a densidade populacional com base nos vírus sobreviventes.\n",
        "        3. Tenta reproduzir cada vírus sobrevivente, adicionando novos vírus à população.\n",
        "        4. Atualiza a lista de vírus no paciente.\n",
        "\n",
        "        Retorna:\n",
        "        - O número total de partículas virais após a atualização.\n",
        "        \"\"\"\n",
        "        # Lista de vírus sobreviventes\n",
        "        surviving_viruses = []\n",
        "        for virus in self.viruses:\n",
        "            if not virus.doesClear():\n",
        "                surviving_viruses.append(virus)\n",
        "\n",
        "        # Calcula a densidade populacional\n",
        "        popDensity = len(surviving_viruses) / self.maxPop\n",
        "\n",
        "        # Lista de novos vírus\n",
        "        new_viruses = []\n",
        "        for virus in surviving_viruses:\n",
        "            try:\n",
        "                new_viruses.append(virus.reproduce(popDensity))\n",
        "            except NoChildException:\n",
        "                pass\n",
        "\n",
        "        # Atualiza a população de vírus\n",
        "        self.viruses = surviving_viruses + new_viruses\n",
        "\n",
        "        # Retorna o número total de vírus\n",
        "        return self.getTotalPop()"
      ],
      "metadata": {
        "id": "nPLEpU5unb1T"
      },
      "execution_count": 89,
      "outputs": []
    },
    {
      "cell_type": "markdown",
      "source": [
        "## **Classe `TestSimpleVirus`**\n",
        "\n",
        "A biblioteca `unittest` fornece ferramentas para escrever e executar testes, de modo a verificar o comportamento classes em Python. Testes unitários são importantes para garantir a qualidade do código e prevenir erros.\n",
        "\n",
        "* `class TestSimpleVirus(unittest.TestCase)`: define uma classe de teste chamada `TestSimpleVirus`, a qual herda de `unittest.TestCase`, o que permite usar métodos e asserções para verificar o comportamento do código.\n",
        "\n",
        "* `def test_initialization(self)`:  este método testa a inicialização da classe `SimpleVirus`, cria um objeto SimpleVirus e usa `assertEqual()` para verificar se os atributos `maxBirthProb` e `clearProb` foram inicializados com os valores corretos.\n",
        "\n",
        "* `def test_reproduce(self)`: Este método testa o método `reproduce()` da classe `SimpleVirus`, verificando se a exceção `NoChildException` é levantada quando o método `reproduce()` é chamado com uma densidade populacional de 1.0, simulando uma situação em que o vírus não deve se reproduzir.\n",
        "\n",
        "* `if __name__ == \"__main__\":`: Este bloco de código executa os testes quando o script é executado diretamente (ou seja, não importado como um módulo), carregando os testes da classe `TestSimpleVirus`, e os executa usando `unittest.TextTestRunner()`.\n"
      ],
      "metadata": {
        "id": "776ASOqvF5Nh"
      }
    },
    {
      "cell_type": "code",
      "source": [
        "import unittest  # Importa a biblioteca para criação de testes unitários\n",
        "\n",
        "class TestSimpleVirus(unittest.TestCase):  # Define uma classe para os testes da classe SimpleVirus\n",
        "    \"\"\"\n",
        "    Classe de teste para a classe SimpleVirus.\n",
        "    \"\"\"\n",
        "    def test_initialization(self):\n",
        "        \"\"\"\n",
        "        Testa se o construtor da classe SimpleVirus inicializa os atributos corretamente.\n",
        "        \"\"\"\n",
        "        virus = SimpleVirus(0.1, 0.2)  # Cria uma instância de SimpleVirus com valores específicos\n",
        "        self.assertEqual(virus.getMaxBirthProb(), 0.1)  # Verifica se maxBirthProb foi inicializado corretamente\n",
        "        self.assertEqual(virus.getClearProb(), 0.2)  # Verifica se clearProb foi inicializado corretamente\n",
        "\n",
        "    def test_reproduce(self):\n",
        "        \"\"\"\n",
        "        Testa se o método reproduce() da classe SimpleVirus levanta a exceção NoChildException\n",
        "        quando a densidade populacional é 1.0.\n",
        "        \"\"\"\n",
        "        virus = SimpleVirus(0.1, 0.2)  # Cria uma instância de SimpleVirus\n",
        "        self.assertRaises(NoChildException, virus.reproduce, 1.0)  # Verifica se a exceção é levantada\n",
        "\n",
        "if __name__ == \"__main__\":  # Executa os testes quando o script é executado diretamente\n",
        "    suite = unittest.TestLoader().loadTestsFromTestCase(TestSimpleVirus)  # Carrega os testes da classe TestSimpleVirus\n",
        "    unittest.TextTestRunner().run(suite)  # Executa os testes e exibe os resultados"
      ],
      "metadata": {
        "colab": {
          "base_uri": "https://localhost:8080/"
        },
        "id": "QxmUUwvvFqq5",
        "outputId": "64f2440a-00bc-469f-a8cb-a33c27bc8638"
      },
      "execution_count": 90,
      "outputs": [
        {
          "output_type": "stream",
          "name": "stderr",
          "text": [
            "..\n",
            "----------------------------------------------------------------------\n",
            "Ran 2 tests in 0.007s\n",
            "\n",
            "OK\n"
          ]
        }
      ]
    },
    {
      "cell_type": "markdown",
      "source": [
        "## **Função `simulationWithoutDrug`**\n",
        "\n",
        "A função `simulationWithoutDrug` simula a dinâmica da população viral em um paciente durante 300 tentativas (`numTrials`), de modo a calcular a média do tamanho da população viral ao longo do tempo.\n",
        "\n",
        "**Parâmetros sugeridos para simulação**:\n",
        "\n",
        "* `numViruses = 100`: Quantidade inicial de vírus no paciente.\n",
        "* `maxPop = 1000`: População máxima sustentável de vírus no paciente.\n",
        "* `maxBirthProb = 0.1`: Probabilidade máxima de reprodução de um vírus.\n",
        "* `clearProb = 0.05`: Probabilidade máxima de eliminação de um vírus."
      ],
      "metadata": {
        "id": "ZaGLQwWMukwA"
      }
    },
    {
      "cell_type": "code",
      "source": [
        "def simulationWithoutDrug(numViruses, maxPop, maxBirthProb, clearProb, numTrials, steps=300):\n",
        "    results = [0] * steps\n",
        "    for trial in range(numTrials):\n",
        "        logging.info(f\"Executando simulação {trial + 1} de {numTrials}\")\n",
        "        viruses = [SimpleVirus(maxBirthProb, clearProb) for _ in range(numViruses)]\n",
        "        patient = Patient(viruses, maxPop)\n",
        "        for step in range(steps):\n",
        "            results[step] += patient.update()\n",
        "    return [r / numTrials for r in results]\n",
        "\n",
        "def plotResults(results):\n",
        "    pylab.plot(results, label=\"População Média de Vírus\")\n",
        "    pylab.title(\"Simulação do Crescimento Populacional de Vírus (sem medicamento)\")\n",
        "    pylab.xlabel(\"Intervalos de Tempo\")\n",
        "    pylab.ylabel(\"População Média de Vírus\")\n",
        "    pylab.legend(loc=\"best\")\n",
        "    pylab.show()\n",
        "\n",
        "# Teste simples\n",
        "def testSimulation():\n",
        "    results = simulationWithoutDrug(10, 100, 0.99, 0.01, 1)\n",
        "    assert all(r > 0 for r in results), \"Os resultados devem ser positivos.\"\n",
        "    logging.info(\"Teste concluído com sucesso.\")\n",
        "\n",
        "# Chamada do código principal\n",
        "if __name__ == \"__main__\":\n",
        "    results = simulationWithoutDrug(numViruses=100, maxPop=1000, maxBirthProb=0.1, clearProb=0.05, numTrials=100)\n",
        "    plotResults(results)"
      ],
      "metadata": {
        "colab": {
          "base_uri": "https://localhost:8080/",
          "height": 472
        },
        "id": "ch-u80B-wE9z",
        "outputId": "cc897a93-1129-4bdf-d993-9f5b4a6c36e5"
      },
      "execution_count": 91,
      "outputs": [
        {
          "output_type": "display_data",
          "data": {
            "text/plain": [
              "<Figure size 640x480 with 1 Axes>"
            ],
            "image/png": "[encoded data removed]"
          },
          "metadata": {}
        }
      ]
    },
    {
      "cell_type": "markdown",
      "source": [
        "## **Implantando a função `simulationWithoutDrug` com NumPy**\n",
        "\n",
        "A biblioteca NumPy realiza cálculos numéricos de forma eficiente, especialmente para lidar com arrays multidimensionais. O uso de arrays NumPy permite realizar operações vetorizadas, por isto o código se torna mais eficiente do que usar listas do Python para armazenar os resultados. Desta forma o código teve seu desempenho otimizado.\n",
        "\n",
        "* `np.zeros((numTrials, steps))`: cria um array NumPy bidimensional preenchido com zeros. Este array armazena os resultados da simulação para cada etapa de tempo em cada tentativa.\n",
        "\n",
        "* `np.mean(resultados, axis=0)`: calcula a média dos resultados da simulação ao longo do eixo 0 (ou seja, a média em cada etapa de tempo em todas as tentativas). A função `np.mean()` oferece uma maneira eficiente de calcular a média de arrays, especialmente para arrays grandes."
      ],
      "metadata": {
        "id": "t5Db-ArMI0U8"
      }
    },
    {
      "cell_type": "code",
      "source": [
        "def createViruses(numViruses, maxBirthProb, clearProb):\n",
        "    \"\"\"\n",
        "    Cria uma lista de objetos SimpleVirus.\n",
        "\n",
        "    Parâmetros:\n",
        "        numViruses (int): Número de vírus a serem criados.\n",
        "        maxBirthProb (float): Probabilidade máxima de reprodução do vírus.\n",
        "        clearProb (float): Probabilidade de eliminação do vírus.\n",
        "\n",
        "    Retorna:\n",
        "        list: Lista de objetos SimpleVirus.\n",
        "    \"\"\"\n",
        "    return [SimpleVirus(maxBirthProb, clearProb) for _ in range(numViruses)]\n",
        "\n",
        "def simulateStep(patient):\n",
        "    \"\"\"\n",
        "    Simula uma etapa de tempo na simulação, atualizando o estado do paciente.\n",
        "\n",
        "    Parâmetros:\n",
        "        patient (Patient): Objeto Patient a ser atualizado.\n",
        "\n",
        "    Retorna:\n",
        "        int: Número total de vírus no paciente após a atualização.\n",
        "    \"\"\"\n",
        "    return patient.update()\n",
        "\n",
        "def calculateAverage(resultados):\n",
        "    \"\"\"\n",
        "    Calcula a média dos resultados da simulação ao longo de múltiplas tentativas.\n",
        "\n",
        "    Parâmetros:\n",
        "        resultados (numpy.ndarray): Array NumPy com os resultados de cada tentativa.\n",
        "\n",
        "    Retorna:\n",
        "        numpy.ndarray: Array NumPy com a média dos resultados em cada etapa de tempo.\n",
        "    \"\"\"\n",
        "    return np.mean(resultados, axis=0)\n",
        "\n",
        "def simulationWithoutDrug(numViruses, maxPop, maxBirthProb, clearProb, numTrials):\n",
        "    \"\"\"\n",
        "    Simula a propagação de vírus sem tratamento de medicamentos.\n",
        "\n",
        "    Parâmetros:\n",
        "        numViruses (int): Número inicial de vírus.\n",
        "        maxPop (int): População máxima de vírus.\n",
        "        maxBirthProb (float): Probabilidade de reprodução do vírus.\n",
        "        clearProb (float): Probabilidade de eliminação do vírus.\n",
        "        numTrials (int): Número de simulações.\n",
        "\n",
        "    Retorna:\n",
        "        numpy.ndarray: Array com a média da população de vírus em cada passo de tempo.\n",
        "    \"\"\"\n",
        "    # Validação da entrada\n",
        "    if not isinstance(numViruses, int) or numViruses <= 0:\n",
        "        raise ValueError(\"numViruses deve ser um número inteiro positivo.\")\n",
        "    if not isinstance(maxPop, int) or maxPop <= 0:\n",
        "        raise ValueError(\"maxPop deve ser um número inteiro positivo.\")\n",
        "    if not isinstance(maxBirthProb, float) or maxBirthProb < 0 or maxBirthProb > 1:\n",
        "        raise ValueError(\"maxBirthProb deve estar entre 0 e 1.\")\n",
        "    # ... (outras validações)\n",
        "\n",
        "    steps = 300\n",
        "    resultados = np.zeros((numTrials, steps))  # Cria um array NumPy para armazenar os resultados\n",
        "\n",
        "    for i in range(numTrials):\n",
        "        virus = createViruses(numViruses, maxBirthProb, clearProb)\n",
        "        patient = Patient(virus, maxPop)\n",
        "        for step in range(steps):\n",
        "            resultados[i, step] = simulateStep(patient)\n",
        "\n",
        "    return calculateAverage(resultados)\n",
        "\n",
        "def plotResults(resultados):\n",
        "    \"\"\"\n",
        "    Plota os resultados da simulação usando Pylab.\n",
        "\n",
        "    Parâmetros:\n",
        "        resultados (numpy.ndarray): Array NumPy com a média da população de vírus em cada etapa de tempo.\n",
        "    \"\"\"\n",
        "    pylab.plot(resultados, label=\"População Média de Vírus\", c='r')\n",
        "    pylab.title(\"Simulação do Crescimento Populacional de Vírus (sem medicamento)\")\n",
        "    pylab.xlabel(\"Intervalos de Tempo\")\n",
        "    pylab.ylabel(\"População Média de Vírus\")\n",
        "    pylab.legend(loc=\"best\")\n",
        "    pylab.show()\n",
        "\n",
        "if __name__ == \"__main__\":\n",
        "    resultados = simulationWithoutDrug(numViruses=100, maxPop=1000, maxBirthProb=0.1, clearProb=0.05, numTrials=100)\n",
        "    plotResults(resultados)"
      ],
      "metadata": {
        "colab": {
          "base_uri": "https://localhost:8080/",
          "height": 472
        },
        "id": "XXrXFZ6D1VN8",
        "outputId": "fed8d0f1-50e5-4edd-a76a-f0a34b4f6683"
      },
      "execution_count": 92,
      "outputs": [
        {
          "output_type": "display_data",
          "data": {
            "text/plain": [
              "<Figure size 640x480 with 1 Axes>"
            ],
            "image/png": "[encoded data removed]"
          },
          "metadata": {}
        }
      ]
    },
    {
      "cell_type": "markdown",
      "source": [
        "No gráfico acima observa-se que o crescimento da população viral ocorre exponencialmente de início, estabilizando-se após um certo número de etapas temporais - em aproximadamente 150 time-steps, o gráfico começa a apresentar uma estabilização clara, com pequenas flutuações em torno de um valor constante (~500). O platô indica que a população atingiu um equilíbrio dinâmico, em que o número de vírus que sendo eliminados, compensam o número de vírus em reprodução no organismo."
      ],
      "metadata": {
        "id": "Pj6Q_0w4PFmz"
      }
    },
    {
      "cell_type": "markdown",
      "source": [
        "## **Problema 2: Implementação da Simulação de uma Virose com medicamentos**\n",
        "\n",
        "Nesta parte, o código desenvolvido considerará os efeitos da administração de medicamentos ao paciente e a capacidade da descendência de partículas virais de herdar ou sofrer mutações em traços genéticos que conferem resistência a medicamentos. À medida que a população de vírus se reproduz, mutações ocorrerão na descendência do vírus, adicionando diversidade genética à população de vírus. Algumas partículas de vírus ganham mutações favoráveis que conferem resistência a medicamentos."
      ],
      "metadata": {
        "id": "hbUEJ6Y8EVAR"
      }
    },
    {
      "cell_type": "markdown",
      "source": [
        "## **Classe `ResistantVirus`**\n",
        "\n",
        "A classe `ResistantVirus` modela, estocasticamente, uma partícula viral com capacidade de desenvolver resistência a medicamentos através de mutações genéticas. Ou seja, modela quais medicamentos afetam o vírus já resistentes a determinados medicamentos em uso, devido a mutações genéticas (surgimento de novas versões do vírus mais resistentes).\n",
        "\n",
        "É uma classe derivada de `SimpleVirus`, herdando as funcionalidades básicas como probabilidade de reprodução e eliminação, contendo alguns atributos adicionais para para lidar com resistências e mutações:\n",
        "\n",
        "* `resistances`: um dicionário que indica os medicamentos aos quais o vírus é resistente (chave: nome_do_medicamento, valor: True ou False).\n",
        "* `mutProb`: é a probabilidade de que um vírus ganhe  resistência, sofrendo mutações ao se reproduzir.\n",
        "\n",
        "### **A função `reproduce`**\n",
        "\n",
        "Esta função determina, de forma estocástica, se o vírus irá se reproduzir em um dado intervalo de tempo. Portanto, a reprodução e as mutações são baseadas em números aleatórios, o que nos permite a **simulação de processos biológicos reais**.\n",
        "\n",
        "**Parâmetros**:\n",
        "\n",
        "* `popDensity`: A densidade populacional, representando a proporção da população viral em relação à capacidade máxima do ambiente (impacta a probabilidade de reprodução).\n",
        "* `activeDrugs`: Lista de medicamentos atualmente em uso no paciente.\n",
        "\n",
        "**Lógica de funcionamento**:\n",
        "\n",
        "Primeiro, verifica se o vírus é resistente a todos os medicamentos ativos, usando `all(self.isResistantTo(d) for d in activeDrugs`). Em seguida, calcula a probabilidade de reprodução, `self.getMaxBirthProb() * (1 - popDensity)`.\n",
        "\n",
        "Se as condições de resistência e probabilidade forem satisfeitas, um novo dicionário `resistances` é criado para a descendência.\n",
        "\n",
        "Uma nova instância de `ResistantVirus` é retornada com os atributos herdados e o dicionário `resistances`é atualizado.\n",
        "\n",
        "Caso contrário, é levantada a exceção `NoChildException`, quando o vírus não pode se reproduzir devido a falta de resistência aos medicamentos ativos ou a alta densidade populacional, que reduz a probabilidade de reprodução.\n",
        "\n",
        "Para cada medicamento no dicionário `resistances`, há uma chance de `mutProb` inverter o estado da resistência (True → False ou False → True)."
      ],
      "metadata": {
        "id": "fvMcZ-WiS0PO"
      }
    },
    {
      "cell_type": "code",
      "source": [
        "# Define a classe ResistantVirus como uma subclasse de SimpleVirus\n",
        "class ResistantVirus(SimpleVirus):\n",
        "    \"\"\"\n",
        "    Representação de um vírus resistente a medicamentos.\n",
        "    \"\"\"\n",
        "\n",
        "    def __init__(self, maxBirthProb, clearProb, resistances, mutProb):\n",
        "        \"\"\"\n",
        "        Inicializa uma nova instância de ResistantVirus.\n",
        "\n",
        "        Parâmetros:\n",
        "            maxBirthProb (float): Probabilidade máxima de reprodução.\n",
        "            clearProb (float): Probabilidade de eliminação.\n",
        "            resistances (dict): Resistências do vírus (medicamento: True/False).\n",
        "            mutProb (float): Probabilidade de mutação.\n",
        "        \"\"\"\n",
        "        if not isinstance(resistances, dict):\n",
        "            raise ValueError(\"Resistances deve ser um dicionário.\")\n",
        "        if not (0 <= mutProb <= 1):\n",
        "            raise ValueError(\"Mutation probability deve estar entre 0 e 1.\")\n",
        "\n",
        "        super().__init__(maxBirthProb, clearProb)\n",
        "        self.resistances = resistances\n",
        "        self.mutProb = mutProb\n",
        "\n",
        "    def getResistances(self):\n",
        "        \"\"\"\n",
        "        Retorna o dicionário de resistências do vírus.\n",
        "        \"\"\"\n",
        "        return self.resistances.copy()\n",
        "\n",
        "    def getMutProb(self):\n",
        "        \"\"\"\n",
        "        Retorna a probabilidade de mutação do vírus.\n",
        "        \"\"\"\n",
        "        return self.mutProb\n",
        "\n",
        "    def isResistantTo(self, drug):\n",
        "        \"\"\"\n",
        "        Verifica se o vírus é resistente a um medicamento.\n",
        "\n",
        "        Parâmetros:\n",
        "            drug (str): Nome do medicamento.\n",
        "\n",
        "        Retorno:\n",
        "            bool: True se resistente, False caso contrário.\n",
        "        \"\"\"\n",
        "        return self.resistances.get(drug, False)\n",
        "\n",
        "    def reproduce(self, popDensity, activeDrugs):\n",
        "        \"\"\"\n",
        "        Determina estocasticamente se este vírus se reproduz em um dado intervalo de tempo.\n",
        "\n",
        "        Parâmetros:\n",
        "            popDensity (float): Densidade populacional do vírus.\n",
        "            activeDrugs (list): Uma lista de medicamentos atualmente ativos no paciente.\n",
        "        Retorna:\n",
        "            ResistantVirus: Uma nova instância de ResistantVirus representando a descendência.\n",
        "        Exceções:\n",
        "            NoChildException: Se o vírus não se reproduzir.\n",
        "        \"\"\"\n",
        "        # Verifica se o vírus é resistente a todos os medicamentos ativos\n",
        "        if (not activeDrugs or all(self.isResistantTo(d) for d in activeDrugs)) and \\\n",
        "           random.random() <= self.getMaxBirthProb() * (1 - popDensity):  # Verifica a probabilidade de reprodução\n",
        "\n",
        "            # Cria um novo dicionário de resistências para a descendência, considerando a probabilidade de mutação\n",
        "            resistances = {\n",
        "                drug: (not is_resistant if random.random() <= self.mutProb else is_resistant)\n",
        "                for drug, is_resistant in self.resistances.items()\n",
        "            }\n",
        "            return ResistantVirus(self.getMaxBirthProb(), self.getClearProb(), resistances, self.mutProb)\n",
        "\n",
        "        raise NoChildException(\"O vírus não se reproduziu devido à resistência ou restrições populacionais.\")"
      ],
      "metadata": {
        "id": "vTLjv7wcw5EE"
      },
      "execution_count": 93,
      "outputs": []
    },
    {
      "cell_type": "markdown",
      "source": [
        "## **Classe `ResistantVirus` usando NumPy**\n",
        "\n",
        "Neste caso, o construtor inicializa o objeto `ResistantVirus`, valida os parâmetros de entrada, e chama o construtor da classe pai (`super().__init__(maxBirthProb, clearProb)`) para inicializar os atributos herdados de `SimpleVirus`, convertendo as `resistances` em arrays NumPy:\n",
        "* `self.drugs = np.array(list(resistances.keys()))`: cria array NumPy com os nomes dos medicamentos.\n",
        "* `self.resistances = np.array(list(resistances.values()))`: cria array NumPy com os valores booleanos de resistência.\n",
        "\n",
        "**Método `reproduce`**\n",
        "\n",
        "Quando o vírus puder se reproduzir, são calculadas as mutações:\n",
        "* `mutations = np.random.random(len(self.drugs)) <= self.mutProb`: Gera um array de valores booleanos aleatórios, onde cada valor indica se um medicamento é eficaz.\n",
        "* `new_resistances = np.where(mutations, np.logical_not(self.resistances), self.resistances)`: cria um novo array de resistências, invertendo os valores booleanos quando são verificadas mutações.\n",
        "\n",
        "É criado um novo dicionário de resistências:\n",
        "* `resistances_dict = dict(zip(self.drugs, new_resistances))`: que combina os nomes dos medicamentos com os novos valores de resistência, que retorna um novo objeto `ResistantVirus` com as novas resistências. Se o vírus não puder se reproduzir, uma exceção é levantada.\n",
        "\n"
      ],
      "metadata": {
        "id": "9Fz8r1Rebt7c"
      }
    },
    {
      "cell_type": "code",
      "source": [
        "class ResistantVirus(SimpleVirus):\n",
        "    \"\"\"\n",
        "    Representação de um vírus simples com resistência a medicamentos.\n",
        "    \"\"\"\n",
        "    def __init__(self, maxBirthProb, clearProb, resistances, mutProb):\n",
        "        \"\"\"\n",
        "        Inicializa uma nova instância de ResistantVirus.\n",
        "\n",
        "        Parâmetros:\n",
        "            maxBirthProb (float): Probabilidade máxima de reprodução.\n",
        "            clearProb (float): Probabilidade de eliminação.\n",
        "            resistances (dict): Um dicionário de pares {medicamento: booleano}\n",
        "                                 indicando as resistências do vírus.\n",
        "            mutProb (float): Probabilidade de uma mutação ocorrer em um novo vírus.\n",
        "        \"\"\"\n",
        "        if not isinstance(resistances, dict):\n",
        "            raise ValueError(\"Resistances devem ser um dicionário.\")\n",
        "        if not (0 <= mutProb <= 1):\n",
        "            raise ValueError(\"A probabilidade de mutação deve estar entre 0 e 1.\")\n",
        "\n",
        "        super().__init__(maxBirthProb, clearProb)\n",
        "\n",
        "        # Converte as resistências para arrays NumPy\n",
        "        self.drugs = np.array(list(resistances.keys()))\n",
        "        self.resistances = np.array(list(resistances.values()))\n",
        "        self.mutProb = mutProb\n",
        "\n",
        "    def getResistances(self):\n",
        "        \"\"\"\n",
        "        Retorna um dicionário de resistências a medicamentos do vírus.\n",
        "        \"\"\"\n",
        "        return dict(zip(self.drugs, self.resistances))\n",
        "\n",
        "    def getMutProb(self):\n",
        "        \"\"\"\n",
        "        Retorna a probabilidade de mutação do vírus.\n",
        "        \"\"\"\n",
        "        return self.mutProb\n",
        "\n",
        "    def isResistantTo(self, drug):\n",
        "        \"\"\"\n",
        "        Retorna True se este vírus é resistente ao medicamento, False caso contrário.\n",
        "        \"\"\"\n",
        "        return self.resistances[self.drugs == drug][0] if drug in self.drugs else False\n",
        "\n",
        "    def reproduce(self, popDensity, activeDrugs):\n",
        "        \"\"\"\n",
        "        Determina estocasticamente se este vírus se reproduz em um intervalo de tempo.\n",
        "\n",
        "        Parâmetros:\n",
        "            popDensity (float): Densidade populacional do vírus.\n",
        "            activeDrugs (list): Uma lista de medicamentos atualmente ativos no paciente.\n",
        "\n",
        "        Retorna:\n",
        "            ResistantVirus: Uma nova instância de ResistantVirus representando a descendência.\n",
        "\n",
        "        Exceções:\n",
        "            NoChildException: Se o vírus não se reproduzir.\n",
        "        \"\"\"\n",
        "        # Verifica se o vírus é resistente a todos os medicamentos ativos\n",
        "        if (not activeDrugs or all(self.isResistantTo(d) for d in activeDrugs)) and \\\n",
        "           np.random.random() <= self.getMaxBirthProb() * (1 - popDensity):\n",
        "\n",
        "            # Calcula mutações\n",
        "            mutations = np.random.random(len(self.drugs)) <= self.mutProb\n",
        "            new_resistances = np.where(mutations, np.logical_not(self.resistances), self.resistances)\n",
        "\n",
        "            # Cria um novo dicionário de resistências\n",
        "            resistances_dict = dict(zip(self.drugs, new_resistances))\n",
        "\n",
        "            return ResistantVirus(self.getMaxBirthProb(), self.getClearProb(), resistances_dict, self.mutProb)\n",
        "\n",
        "        raise NoChildException(\"O vírus não se reproduziu devido à resistência ou restrições populacionais.\")"
      ],
      "metadata": {
        "id": "TOfjGlKDNXEz"
      },
      "execution_count": 94,
      "outputs": []
    },
    {
      "cell_type": "markdown",
      "source": [
        "## **Problema 3: Implantação de Simulação de Medicamentos Administrados ao Paciente**\n",
        "\n",
        "O problema exige a implementação da classe `TreatedPatient` e seus métodos, considerando a interação com a classe `ResistantVirus` (que modela vírus com resistência a medicamentos) e a lógica de como os medicamentos afetam a reprodução dos vírus.\n",
        "\n",
        "A classe `TreatedPatient`, herdada da classe `Patient`, deve gerenciar uma lista de medicamentos que são administrados ao paciente e como esses medicamentos afetam a população de vírus, especialmente aqueles com resistência. O objetivo é simular um paciente que está sendo tratado com medicamentos para combater um vírus.\n",
        "\n",
        "A classe deve ter um método `addPrescription()` para adicionar medicamentos à lista de medicamentos ativos do paciente. Os medicamentos impedem a reprodução de vírus que não são resistentes a eles, mas não os matam diretamente."
      ],
      "metadata": {
        "id": "xh2BQOLJlD0d"
      }
    },
    {
      "cell_type": "markdown",
      "source": [
        "## **Implantação da classe `TreatedPatient`**"
      ],
      "metadata": {
        "id": "uAaGhyYgl9uN"
      }
    },
    {
      "cell_type": "code",
      "source": [
        "class TreatedPatient(Patient):\n",
        "    \"\"\"\n",
        "    Representação de um paciente tratado com medicamentos.\n",
        "    \"\"\"\n",
        "    def __init__(self, viruses, maxPop):\n",
        "        \"\"\"\n",
        "        Inicializa uma nova instância de TreatedPatient.\n",
        "\n",
        "        Parâmetros:\n",
        "            viruses (list): Lista de vírus.\n",
        "            maxPop (int): População máxima permitida.\n",
        "        \"\"\"\n",
        "        super().__init__(viruses, maxPop)\n",
        "        self.drugs = []\n",
        "\n",
        "    def addPrescription(self, newDrug):\n",
        "        \"\"\"\n",
        "        Adiciona um medicamento à lista de prescrições.\n",
        "\n",
        "        Parâmetros:\n",
        "            newDrug (str): Nome do medicamento.\n",
        "        \"\"\"\n",
        "        if not isinstance(newDrug, str):\n",
        "            raise ValueError(\"O nome do medicamento deve ser uma string.\")\n",
        "        if newDrug not in self.drugs:\n",
        "            self.drugs.append(newDrug)\n",
        "\n",
        "    def getPrescriptions(self):\n",
        "        \"\"\"\n",
        "        Retorna a lista de medicamentos ativos.\n",
        "\n",
        "        Retorno:\n",
        "            list: Lista de medicamentos.\n",
        "        \"\"\"\n",
        "        return self.drugs\n",
        "\n",
        "    def getResistPop(self, drugResist):\n",
        "        \"\"\"\n",
        "        Retorna a população viral resistente a medicamentos.\n",
        "\n",
        "        Parâmetros:\n",
        "            drugResist (list): Lista de medicamentos.\n",
        "\n",
        "        Retorno:\n",
        "            int: Número de vírus resistentes.\n",
        "        \"\"\"\n",
        "        ###  return len([v for v in self.viruses if all(v.isResistantTo(d) for d in drugResist)])\n",
        "        # Verifica se a lista de medicamentos está vazia\n",
        "        if not drugResist:\n",
        "            return len(self.viruses)  # Se vazia, todos são considerados 'resistentes'\n",
        "\n",
        "        # Conta os vírus resistentes a todos os medicamentos na lista\n",
        "        resistant_count = 0\n",
        "        for virus in self.viruses:\n",
        "            is_resistant = True  # Assume que o vírus é resistente inicialmente\n",
        "            for drug in drugResist:\n",
        "                if not virus.isResistantTo(drug):  # Se não é resistente a um medicamento, muda a flag\n",
        "                    is_resistant = False\n",
        "                    break  # Sai do loop interno, pois já sabemos que não é resistente a todos\n",
        "            if is_resistant:  # Se passou por todos os medicamentos e ainda é resistente\n",
        "                resistant_count += 1\n",
        "        return resistant_count\n",
        "\n",
        "    def update(self):\n",
        "        \"\"\"\n",
        "        Atualiza a população viral no paciente.\n",
        "\n",
        "        Retorno:\n",
        "            int: Tamanho total da população viral.\n",
        "        \"\"\"\n",
        "        # Remove vírus eliminados\n",
        "        self.viruses = [v for v in self.viruses if not v.doesClear()]\n",
        "\n",
        "        # Calcula densidade populacional\n",
        "        popDensity = len(self.viruses) / float(self.maxPop)\n",
        "\n",
        "        # Reproduz vírus\n",
        "        for v in self.viruses[:]:  # Cria uma cópia da lista para evitar conflitos\n",
        "            try:\n",
        "                # Cria uma cópia do vírus para evitar problemas de mutabilidade\n",
        "                new_virus = v.reproduce(popDensity, self.getPrescriptions())\n",
        "                self.viruses.append(v.reproduce(popDensity, self.getPrescriptions()))\n",
        "            except NoChildException:\n",
        "                pass\n",
        "\n",
        "        return len(self.viruses)"
      ],
      "metadata": {
        "id": "BSytUeTGwuEp"
      },
      "execution_count": 95,
      "outputs": []
    },
    {
      "cell_type": "markdown",
      "source": [
        "## **Implantação da classe `TreatedPatient` com NumPy**"
      ],
      "metadata": {
        "id": "XWCgixqG1TBi"
      }
    },
    {
      "cell_type": "code",
      "source": [
        "class TreatedPatient(Patient):\n",
        "    \"\"\"\n",
        "    Representação de um paciente em tratamento com medicamentos.\n",
        "    \"\"\"\n",
        "\n",
        "    def __init__(self, viruses, maxPop):\n",
        "        \"\"\"\n",
        "        Inicializa um novo TreatedPatient.\n",
        "\n",
        "        Parâmetros:\n",
        "            viruses (list): Lista de vírus com os quais o paciente está infectado.\n",
        "            maxPop (int): População máxima de vírus que o paciente pode suportar.\n",
        "        \"\"\"\n",
        "        super().__init__(viruses, maxPop)\n",
        "        self.drugs = []\n",
        "\n",
        "    def addPrescription(self, newDrug):\n",
        "        \"\"\"\n",
        "        Adiciona um novo medicamento à lista de medicamentos do paciente.\n",
        "\n",
        "        Parâmetros:\n",
        "            newDrug (str): Nome do novo medicamento.\n",
        "        \"\"\"\n",
        "        if not isinstance(newDrug, str):\n",
        "            raise ValueError(\"The drug name must be a string.\")\n",
        "        if newDrug not in self.drugs:\n",
        "            self.drugs.append(newDrug)\n",
        "\n",
        "    def getPrescriptions(self):\n",
        "        \"\"\"\n",
        "        Retorna a lista de medicamentos do paciente.\n",
        "\n",
        "        Retorna:\n",
        "            list: Lista de medicamentos.\n",
        "        \"\"\"\n",
        "        return self.drugs\n",
        "\n",
        "    def getResistPop(self, drugResistances):\n",
        "        \"\"\"\n",
        "        Obtém o número de vírus resistentes a uma lista de medicamentos.\n",
        "\n",
        "        Parâmetros:\n",
        "            drugResistances (list): Lista de medicamentos.\n",
        "\n",
        "        Retorna:\n",
        "            int: Número de vírus resistentes a todos os medicamentos na lista.\n",
        "        \"\"\"\n",
        "        if not self.viruses:  # Trata o caso de lista de vírus vazia\n",
        "            return 0\n",
        "\n",
        "        virus_resistances = np.array([v.getResistances() for v in self.viruses])\n",
        "        drug_resistances_array = np.array(drugResistances)\n",
        "        resistant_count = np.sum(np.all(np.isin(drug_resistances_array, virus_resistances), axis=1))\n",
        "        return resistant_count\n",
        "\n",
        "    def update(self):\n",
        "        \"\"\"\n",
        "        Atualiza o estado do paciente, considerando a eliminação e reprodução dos vírus,\n",
        "        e o efeito dos medicamentos.\n",
        "\n",
        "        Retorna:\n",
        "            int: Número total de vírus restantes após a atualização.\n",
        "        \"\"\"\n",
        "        self.viruses = [v for v in self.viruses if not v.doesClear()]\n",
        "        popDensity = len(self.viruses) / float(self.maxPop)\n",
        "\n",
        "        new_viruses = []\n",
        "        for v in self.viruses:\n",
        "            try:\n",
        "                # Cria uma cópia do vírus para evitar problemas de mutabilidade\n",
        "                new_virus = v.reproduce(popDensity, self.getPrescriptions())\n",
        "                new_viruses.append(new_virus)\n",
        "            except NoChildException:\n",
        "                pass\n",
        "\n",
        "        self.viruses.extend(new_viruses)\n",
        "        return len(self.viruses)"
      ],
      "metadata": {
        "id": "w101ogmg1UCw"
      },
      "execution_count": 96,
      "outputs": []
    },
    {
      "cell_type": "markdown",
      "source": [
        "## **Plotando a simulação de uma população viral no tempo, considerando a introdução de um medicamento antiviral**"
      ],
      "metadata": {
        "id": "6f1xtThBG1aD"
      }
    },
    {
      "cell_type": "code",
      "source": [
        "def simulationWithDrug(numViruses, maxPop, maxBirthProb, clearProb, resistances, mutProb, numTrials):\n",
        "    \"\"\"\n",
        "    Executa uma simulação com medicamentos e registra os resultados.\n",
        "\n",
        "    Parâmetros:\n",
        "        numViruses (int): Número inicial de vírus.\n",
        "        maxPop (int): Capacidade máxima da população viral.\n",
        "        maxBirthProb (float): Probabilidade máxima de reprodução dos vírus.\n",
        "        clearProb (float): Probabilidade máxima de eliminação dos vírus.\n",
        "        resistances (dict): Resistências iniciais dos vírus.\n",
        "        mutProb (float): Probabilidade de mutação dos vírus.\n",
        "        numTrials (int): Número de testes a serem executados.\n",
        "\n",
        "    Retorno:\n",
        "        None. Exibe gráficos com os resultados da simulação.\n",
        "    \"\"\"\n",
        "    # Parâmetros da simulação\n",
        "    steps = 300\n",
        "    treatOnStep = 150\n",
        "\n",
        "    # Armazena os resultados de todas as simulações\n",
        "    trialResultsTot = [[] for _ in range(steps)]\n",
        "    trialResultsRes = [[] for _ in range(steps)]\n",
        "\n",
        "    for _ in range(numTrials):\n",
        "        # Inicializa os vírus e o paciente\n",
        "        viruses = [ResistantVirus(maxBirthProb, clearProb, resistances.copy(), mutProb) for _ in range(numViruses)]\n",
        "        patient = TreatedPatient(viruses, maxPop)\n",
        "\n",
        "        # Simula as etapas de tempo\n",
        "        for step in range(steps):\n",
        "            if step == treatOnStep:\n",
        "                patient.addPrescription(\"guttagonol\")\n",
        "            patient.update()\n",
        "\n",
        "            # Registra os resultados para a etapa atual\n",
        "            trialResultsTot[step].append(patient.getTotalPop())\n",
        "            trialResultsRes[step].append(patient.getResistPop([\"guttagonol\"]))\n",
        "\n",
        "    # Calcula a média dos resultados em todas as simulações\n",
        "    resultsSummaryTot = [sum(trial) / len(trial) for trial in trialResultsTot]\n",
        "    resultsSummaryRes = [sum(trial) / len(trial) for trial in trialResultsRes]\n",
        "\n",
        "    # Gera os gráficos\n",
        "    pylab.plot(resultsSummaryTot, label=\"População total de vírus\")\n",
        "    pylab.plot(resultsSummaryRes, label=\"População de vírus resistente\")\n",
        "    pylab.title(\"Simulação para 'ResistantVirus'\")\n",
        "    pylab.xlabel(\"Intervalos de tempo\")\n",
        "    pylab.ylabel(\"População viral\")\n",
        "    pylab.legend(loc=\"best\")\n",
        "    pylab.show()\n",
        "\n",
        "# Executa a simulação com os parâmetros fornecidos\n",
        "simulationWithDrug(\n",
        "    numViruses=100,\n",
        "    maxPop=1000,\n",
        "    maxBirthProb=0.1,\n",
        "    clearProb=0.05,\n",
        "    resistances={'guttagonol': False},\n",
        "    mutProb=0.005,\n",
        "    numTrials=150\n",
        ")"
      ],
      "metadata": {
        "colab": {
          "base_uri": "https://localhost:8080/",
          "height": 472
        },
        "id": "jmdakfW1AQnH",
        "outputId": "e3ebd049-0148-44f5-ea40-2552c8640827"
      },
      "execution_count": 85,
      "outputs": [
        {
          "output_type": "display_data",
          "data": {
            "text/plain": [
              "<Figure size 640x480 with 1 Axes>"
            ],
            "image/png": "[encoded data removed]"
          },
          "metadata": {}
        }
      ]
    },
    {
      "cell_type": "markdown",
      "source": [
        "Conforme o gráfico acima, com a introdução do medicamento antiviral fictício, \"guttagonol\" a população total de vírus decai de forma acentuada, indicando que o medicamento está sendo eficaz no combate ao vírus."
      ],
      "metadata": {
        "id": "0bBbPz-yE2Y9"
      }
    }
  ]
}